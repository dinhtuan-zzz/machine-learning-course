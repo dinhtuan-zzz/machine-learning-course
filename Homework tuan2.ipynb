{
 "cells": [
  {
   "cell_type": "code",
   "execution_count": 113,
   "metadata": {},
   "outputs": [],
   "source": [
    "import numpy as np\n",
    "import sklearn\n",
    "import matplotlib.pyplot as plt\n",
    "from sklearn.datasets import load_boston\n",
    "data = load_boston()\n",
    "from sklearn.model_selection import train_test_split\n",
    "X_train, X_test, y_train, y_test = train_test_split(data.data, data.target)"
   ]
  },
  {
   "cell_type": "code",
   "execution_count": 114,
   "metadata": {},
   "outputs": [
    {
     "name": "stdout",
     "output_type": "stream",
     "text": [
      "Coefficents:  [-9.83848341e-02  4.89022583e-02  3.77565540e-02  3.37326508e+00\n",
      " -1.77176952e+01  3.93316038e+00 -1.29741394e-03 -1.37866029e+00\n",
      "  3.03657067e-01 -1.15773893e-02 -9.59676833e-01  1.29949349e-02\n",
      " -4.92708888e-01]\n",
      "Intercept:  33.28644623131311\n"
     ]
    }
   ],
   "source": [
    "def training(X, y):\n",
    "    one = np.ones((X.shape[0], 1))\n",
    "    Xbar = np.concatenate((one, X), axis = 1)\n",
    "    A = np.dot(Xbar.T, Xbar)\n",
    "    b = np.dot(Xbar.T, y)\n",
    "    w = np.dot(np.linalg.pinv(A), b)\n",
    "    return (w[1:], w[0])\n",
    "\n",
    "coefficients, intercept = training(X_train, y_train)\n",
    "print('Coefficents: ', coefficients)\n",
    "print('Intercept: ', intercept)"
   ]
  },
  {
   "cell_type": "code",
   "execution_count": 115,
   "metadata": {},
   "outputs": [],
   "source": [
    "def prediction(X, coefficients, intercept):\n",
    "    y_predict = X.dot(coefficients) + intercept\n",
    "    return y_predict"
   ]
  },
  {
   "cell_type": "code",
   "execution_count": 116,
   "metadata": {},
   "outputs": [
    {
     "name": "stdout",
     "output_type": "stream",
     "text": [
      "25.730881828472743\n"
     ]
    }
   ],
   "source": [
    "def MSE(X, y_target, coefficients, intercept):\n",
    "    y_predict = prediction(X, coefficents, intercept)\n",
    "    assert len(y_predict) == len(y_target)\n",
    "    mse = sum((y_target-y_predict)**2) / len(y_target)\n",
    "    return mse\n",
    "\n",
    "mse = MSE(X_test, y_test, coefficents, intercept)\n",
    "print(mse)"
   ]
  },
  {
   "cell_type": "code",
   "execution_count": 117,
   "metadata": {},
   "outputs": [],
   "source": [
    "def visualize_results(y_predict, y_target):\n",
    "    \"\"\" this function plot your y_predict and y_predict to see how closed they are\"\"\"\n",
    "    \n",
    "    plt.figure(figsize=(5, 4))\n",
    "    plt.scatter(y_target, y_predict)\n",
    "    plt.plot([0, 50], [0, 50], '--k')\n",
    "    plt.axis('tight')\n",
    "    plt.xlabel('True price ($1000s)')\n",
    "    plt.ylabel('Predicted price ($1000s)')\n",
    "    plt.tight_layout()\n"
   ]
  },
  {
   "cell_type": "code",
   "execution_count": 118,
   "metadata": {},
   "outputs": [
    {
     "data": {
      "image/png": "[encoded data removed]",
      "text/plain": [
       "<Figure size 360x288 with 1 Axes>"
      ]
     },
     "metadata": {
      "needs_background": "light"
     },
     "output_type": "display_data"
    }
   ],
   "source": [
    "visualize_results(prediction(X_test, coefficients, intercept), y_test)"
   ]
  },
  {
   "cell_type": "code",
   "execution_count": null,
   "metadata": {},
   "outputs": [],
   "source": []
  }
 ],
 "metadata": {
  "kernelspec": {
   "display_name": "Python 3",
   "language": "python",
   "name": "python3"
  },
  "language_info": {
   "codemirror_mode": {
    "name": "ipython",
    "version": 3
   },
   "file_extension": ".py",
   "mimetype": "text/x-python",
   "name": "python",
   "nbconvert_exporter": "python",
   "pygments_lexer": "ipython3",
   "version": "3.8.5"
  }
 },
 "nbformat": 4,
 "nbformat_minor": 4
}
