{
 "cells": [
  {
   "cell_type": "markdown",
   "metadata": {},
   "source": [
    "Bài 1"
   ]
  },
  {
   "cell_type": "code",
   "execution_count": 1,
   "metadata": {},
   "outputs": [],
   "source": [
    "data = '''\n",
    "Come to the\n",
    "River\n",
    "Of my\n",
    "Soulful\n",
    "Sentiments\n",
    "Meandering silently\n",
    "Yearning for release.\n",
    "Hasten\n",
    "Earnestly\n",
    "As my love flows by\n",
    "Rushing through the flood-gates\n",
    "To your heart.\n",
    "'''"
   ]
  },
  {
   "cell_type": "code",
   "execution_count": 5,
   "metadata": {},
   "outputs": [
    {
     "name": "stdout",
     "output_type": "stream",
     "text": [
      "CROSSMYHEART\n"
     ]
    }
   ],
   "source": [
    "words = data.split('\\n')\n",
    "decode = ''\n",
    "for word in words:\n",
    "    if len(word) > 0:\n",
    "        decode = decode + word[0]\n",
    "print(decode)"
   ]
  },
  {
   "cell_type": "markdown",
   "metadata": {},
   "source": [
    "Bài 2"
   ]
  },
  {
   "cell_type": "code",
   "execution_count": 52,
   "metadata": {},
   "outputs": [
    {
     "name": "stdout",
     "output_type": "stream",
     "text": [
      "13561\n"
     ]
    }
   ],
   "source": [
    "n = 2**10000\n",
    "sum = 0\n",
    "for char in str(n):\n",
    "    sum = sum + int(char)\n",
    "print(sum)"
   ]
  },
  {
   "cell_type": "markdown",
   "metadata": {},
   "source": [
    "Bài 3"
   ]
  },
  {
   "cell_type": "code",
   "execution_count": 6,
   "metadata": {},
   "outputs": [
    {
     "name": "stdout",
     "output_type": "stream",
     "text": [
      "Người theo hương hoa mây mù giăng lối\n",
      "Làn  sương khói phôi phai  đưa bước ai xa rồi \n",
      "Đơn côi mình ta vấn vương hồi ức trong  men say chiều mưa buồn \n",
      "Ngăn giọt lệ ngừng khiến khoé mi sầu bi \n"
     ]
    }
   ],
   "source": [
    "data = '''Ngư60ời 'theo hư@ơng' hoa 100mây mù [giăng lối]\n",
    "Làn 25 sương khó30i phôi phai 90 đưa bư$ớc ai xa rồi 35\n",
    "100Đơn c#ôi m99ình ta {vấn vương} hồi ức tro^ng ... men say (chiều mưa) buồ80n \n",
    "Ng~ăn \"giọt lệ\" ngừng k2hiến khoé mi sầu bi.1 '''\n",
    "import string\n",
    "punc = string.punctuation\n",
    "copy = ''\n",
    "for i in range(len(data)):\n",
    "    if data[i] not in punc and data[i].isnumeric() == False:\n",
    "        copy = copy + data[i]\n",
    "\n",
    "print(copy)\n",
    "        "
   ]
  },
  {
   "cell_type": "markdown",
   "metadata": {},
   "source": [
    "Bài 4"
   ]
  },
  {
   "cell_type": "code",
   "execution_count": 42,
   "metadata": {},
   "outputs": [
    {
     "name": "stdout",
     "output_type": "stream",
     "text": [
      "442232\n"
     ]
    }
   ],
   "source": [
    "count = 0\n",
    "for a in range(1, 10):\n",
    "    for b in range(1, 10):\n",
    "        for c in range(1, 10):\n",
    "            for d in range(1, 10):\n",
    "                for e in range(1, 10):\n",
    "                    for f in range(1, 10):\n",
    "                        for g in range(1, 10):\n",
    "                            for h in range(1, 10):\n",
    "                                for i in range(1, 10):\n",
    "                                    if a + 13 * b / c + d + 12 * e - f - 11 + g * h / i - 10 == 66:\n",
    "                                        count = count + 1\n",
    "print(count)"
   ]
  },
  {
   "cell_type": "markdown",
   "metadata": {},
   "source": [
    "Bài 5"
   ]
  },
  {
   "cell_type": "code",
   "execution_count": 12,
   "metadata": {},
   "outputs": [
    {
     "name": "stdout",
     "output_type": "stream",
     "text": [
      "98\n",
      "73\n",
      "114\n",
      "122\n",
      "108\n",
      "75\n",
      "89\n",
      "74\n",
      "162\n",
      "170\n"
     ]
    }
   ],
   "source": [
    "dict = {\n",
    "    'a' : 1, 'b' : 2, 'c' : 3, 'd' : 4, 'e' : 5, 'f' : 6, 'g' : 7, 'h' : 8, 'i' : 9,\n",
    "    'j' : 10, 'k' : 11, 'l' : 12, 'm' : 13, 'n' : 14, 'o' : 15, 'p' : 16, 'q' : 17, 'r' : 18, \n",
    "    's' : 19, 't' : 20, 'u' : 21, 'v' : 22, 'w' : 23, 'x' : 24, 'y' : 25, 'z' : 9 \n",
    "}\n",
    "\n",
    "def count(word):\n",
    "    value = 0\n",
    "    for char in word:\n",
    "        value = value + dict[char]\n",
    "    return value\n",
    "\n",
    "print(count('python'))\n",
    "print(count('patience'))\n",
    "print(count('documents'))\n",
    "print(count('students'))\n",
    "print(count('homework'))\n",
    "print(count('practice'))\n",
    "print(count('success'))\n",
    "print(count('english'))\n",
    "print(count('university'))\n",
    "print(count('congratulation'))\n",
    "    "
   ]
  },
  {
   "cell_type": "markdown",
   "metadata": {},
   "source": [
    "Bài 6"
   ]
  },
  {
   "cell_type": "code",
   "execution_count": 17,
   "metadata": {},
   "outputs": [
    {
     "name": "stdout",
     "output_type": "stream",
     "text": [
      "[0, 1, 1, 2, 3, 5, 8, 13, 21, 34, 55, 89, 144, 233, 377, 610, 987]\n"
     ]
    }
   ],
   "source": [
    "def fibo(n):\n",
    "    a = 0\n",
    "    b = 1\n",
    "    lst = []\n",
    "    while a < 1000:\n",
    "        lst.append(a)\n",
    "        c = a + b\n",
    "        a = b\n",
    "        b = c\n",
    "    return lst\n",
    "\n",
    "print(fibo(1000))\n",
    "    "
   ]
  },
  {
   "cell_type": "markdown",
   "metadata": {},
   "source": [
    "Bài 7"
   ]
  },
  {
   "cell_type": "code",
   "execution_count": 39,
   "metadata": {},
   "outputs": [
    {
     "name": "stdout",
     "output_type": "stream",
     "text": [
      "[2, 3, 5, 7, 11, 13, 17, 19, 23, 29, 31, 37, 41, 43, 47, 53, 59, 61, 67, 71]\n"
     ]
    }
   ],
   "source": [
    "lst = []\n",
    "\n",
    "for num in range(2, 10000):\n",
    "    if num == 2:\n",
    "        lst.append(num)\n",
    "    elif num % 2 != 0:\n",
    "        flag = 0\n",
    "        for i in range(2, int(num*0.5)):\n",
    "            if num%i == 0:\n",
    "                flag = 1\n",
    "        if flag == 0:\n",
    "            lst.append(num)\n",
    "print(lst[:20])\n",
    "                "
   ]
  },
  {
   "cell_type": "markdown",
   "metadata": {},
   "source": [
    "Bài 8"
   ]
  },
  {
   "cell_type": "code",
   "execution_count": 36,
   "metadata": {
    "scrolled": false
   },
   "outputs": [
    {
     "name": "stdout",
     "output_type": "stream",
     "text": [
      "{'and': 20, 'Python': 15, 'the': 10, 'to': 8, 'in': 6, 'The': 6, 'of': 6, 'a': 5, 'be': 5, 'for': 4}\n"
     ]
    }
   ],
   "source": [
    "dict = {}\n",
    "data = '''Python is an easy to learn, powerful programming language. It has efficient high-level data structures and a simple but effective approach to object-oriented programming. Python’s elegant syntax and dynamic typing, together with its interpreted nature, make it an ideal language for scripting and rapid application development in many areas on most platforms.\n",
    "\n",
    "The Python interpreter and the extensive standard library are freely available in source or binary form for all major platforms from the Python Web site, https://www.python.org/, and may be freely distributed. The same site also contains distributions of and pointers to many free third party Python modules, programs and tools, and additional documentation.\n",
    "\n",
    "The Python interpreter is easily extended with new functions and data types implemented in C or C++ (or other languages callable from C). Python is also suitable as an extension language for customizable applications.\n",
    "\n",
    "This tutorial introduces the reader informally to the basic concepts and features of the Python language and system. It helps to have a Python interpreter handy for hands-on experience, but all examples are self-contained, so the tutorial can be read off-line as well.\n",
    "\n",
    "For a description of standard objects and modules, see The Python Standard Library. The Python Language Reference gives a more formal definition of the language. To write extensions in C or C++, read Extending and Embedding the Python Interpreter and Python/C API Reference Manual. There are also several books covering Python in depth.\n",
    "\n",
    "This tutorial does not attempt to be comprehensive and cover every single feature, or even every commonly used feature. Instead, it introduces many of Python’s most noteworthy features, and will give you a good idea of the language’s flavor and style. After reading it, you will be able to read and write Python modules and programs, and you will be ready to learn more about the various Python library modules described in The Python Standard Library.'''\n",
    "\n",
    "words = data.split()\n",
    "\n",
    "for word in words:\n",
    "    if word not in dict:\n",
    "        dict[word] = 0\n",
    "    dict[word] = dict[word] + 1\n",
    "\n",
    "lst = sorted(dict, key = lambda word: dict[word], reverse = True)\n",
    "dict2 = {}\n",
    "for key in lst[:10]:\n",
    "    dict2[key] = dict[key]\n",
    "    \n",
    "print(dict2)"
   ]
  },
  {
   "cell_type": "markdown",
   "metadata": {},
   "source": [
    "Bài 9"
   ]
  },
  {
   "cell_type": "code",
   "execution_count": 40,
   "metadata": {},
   "outputs": [
    {
     "name": "stdout",
     "output_type": "stream",
     "text": [
      "[3, 4, 5, 6]\n",
      "[1, 2]\n",
      "[7, 8, 9, 10]\n"
     ]
    }
   ],
   "source": [
    "lst = []\n",
    "L1 = [1, 2, 3, 4, 5, 6]\n",
    "L2 = [3, 4, 5, 6, 7, 8, 9, 10]\n",
    "for num in L1:\n",
    "    if num not in lst:\n",
    "        lst.append(num)\n",
    "for num in L2:\n",
    "    if num not in lst:\n",
    "        lst.append(num)\n",
    "lst1 = [num for num in lst if num in L1 and num in L2]\n",
    "lst2 = [num for num in lst if num in L1 and num not in L2]\n",
    "lst3 = [num for num in lst if num not in L1 and num in L2]\n",
    "print(lst1)\n",
    "print(lst2)\n",
    "print(lst3)"
   ]
  },
  {
   "cell_type": "markdown",
   "metadata": {},
   "source": [
    "Bài 10"
   ]
  },
  {
   "cell_type": "code",
   "execution_count": 48,
   "metadata": {},
   "outputs": [
    {
     "name": "stdout",
     "output_type": "stream",
     "text": [
      "[(1900, 'Canh Tí'), (1901, 'Tân Sửu'), (1902, 'Nhâm Dần'), (1903, 'Quý Mão'), (1904, 'Giáp Thìn'), (1905, 'Ất Tỵ'), (1906, 'Bính Ngọ'), (1907, 'Đinh Mùi'), (1908, 'Mậu Thân'), (1909, 'Kỉ Dậu')]\n"
     ]
    }
   ],
   "source": [
    "Can = {0: 'Canh', 1: 'Tân', 2: 'Nhâm', 3: 'Quý', 4: 'Giáp', 5: 'Ất', 6: 'Bính', 7: 'Đinh', 8: 'Mậu', \n",
    "      9: 'Kỉ'}\n",
    "Chi = {0: 'Tí', 1: 'Sửu', 2: 'Dần', 3: 'Mão', 4: 'Thìn', 5: 'Tỵ', 6: 'Ngọ', 7: 'Mùi', 8: 'Thân', 9: 'Dậu', 10: 'Tuất', \n",
    "      11: 'Hợi'}\n",
    "#https://medium.com/@phonglinhgems/h%C6%B0%E1%BB%9Bng-d%E1%BA%ABn-c%C3%A1ch-t%C3%ADnh-can-chi-theo-tu%E1%BB%95i-%C3%A2m-l%E1%BB%8Bch-2e8572b65c51\n",
    "\n",
    "def lastNumber(year):\n",
    "    return year%10\n",
    "\n",
    "def twolastNumber(year):\n",
    "    return year%100\n",
    "\n",
    "def count(year):\n",
    "    a = lastNumber(year)\n",
    "    b = twolastNumber(year)\n",
    "    return str(Can[a] + ' ' + Chi[b%12])\n",
    "\n",
    "lst = []\n",
    "for year in range(1900, 2020):\n",
    "    lst.append((year, count(year)))\n",
    "    \n",
    "print(lst[:10])"
   ]
  },
  {
   "cell_type": "code",
   "execution_count": null,
   "metadata": {},
   "outputs": [],
   "source": []
  }
 ],
 "metadata": {
  "kernelspec": {
   "display_name": "Python 3",
   "language": "python",
   "name": "python3"
  },
  "language_info": {
   "codemirror_mode": {
    "name": "ipython",
    "version": 3
   },
   "file_extension": ".py",
   "mimetype": "text/x-python",
   "name": "python",
   "nbconvert_exporter": "python",
   "pygments_lexer": "ipython3",
   "version": "3.8.5"
  }
 },
 "nbformat": 4,
 "nbformat_minor": 4
}
