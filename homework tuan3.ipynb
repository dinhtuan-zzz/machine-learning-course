{
 "cells": [
  {
   "cell_type": "code",
   "execution_count": 87,
   "metadata": {},
   "outputs": [],
   "source": [
    "import numpy as np\n",
    "from sklearn.datasets import load_iris\n",
    "data = load_iris()"
   ]
  },
  {
   "cell_type": "code",
   "execution_count": 88,
   "metadata": {},
   "outputs": [],
   "source": [
    "INTERATIONS = 10000\n",
    "ALPHA = 0.01"
   ]
  },
  {
   "cell_type": "code",
   "execution_count": 89,
   "metadata": {},
   "outputs": [],
   "source": [
    "def sigmoid(z):\n",
    "    return 1/(1 + np.exp(-z))"
   ]
  },
  {
   "cell_type": "code",
   "execution_count": 90,
   "metadata": {},
   "outputs": [],
   "source": [
    "def compute_cost(X, y, weight):\n",
    "    m = y.size\n",
    "    h = sigmoid(np.dot(X, weight))\n",
    "    j = -np.sum(y*np.log(h) + (1-y)*np.log(1-h))/m\n",
    "    return j"
   ]
  },
  {
   "cell_type": "code",
   "execution_count": 91,
   "metadata": {},
   "outputs": [],
   "source": [
    "def gradient_descent(X, y, weight, alpha, num_inters):\n",
    "    m = y.size\n",
    "    for i in range(num_inters):\n",
    "        delta = np.dot(X.T, sigmoid(np.dot(X, weight)) - y)/m\n",
    "        weight -= alpha*delta\n",
    "        j = compute_cost(X, y, weight)\n",
    "    return weight, j"
   ]
  },
  {
   "cell_type": "code",
   "execution_count": 92,
   "metadata": {},
   "outputs": [],
   "source": [
    "def accuracy(y, y_predict):\n",
    "    correct = np.sum(y == y_predict)\n",
    "    return float(correct)/y.shape[0]"
   ]
  },
  {
   "cell_type": "code",
   "execution_count": 93,
   "metadata": {},
   "outputs": [],
   "source": [
    "X, y = data.data, data.target\n",
    "X = X[y > 0]\n",
    "y = y[50:]\n",
    "y = y -1\n",
    "m = y.size\n",
    "X = np.concatenate((np.ones((m, 1)), X), axis = 1)\n",
    "weight = np.zeros(X.shape[1])"
   ]
  },
  {
   "cell_type": "code",
   "execution_count": 94,
   "metadata": {},
   "outputs": [],
   "source": [
    "weight, j = gradient_descent(X, y, weight, ALPHA, INTERATIONS)"
   ]
  },
  {
   "cell_type": "code",
   "execution_count": 100,
   "metadata": {},
   "outputs": [
    {
     "name": "stdout",
     "output_type": "stream",
     "text": [
      "weight:  [-1.5159061  -2.40806891 -2.0738274   3.44224318  3.42300705]\n",
      "cost:  0.16711664452781613\n",
      "accuracy:  0.97\n"
     ]
    }
   ],
   "source": [
    "y_predict = []\n",
    "for value in sigmoid(np.dot(X, weight)):\n",
    "    if value > 0.5:\n",
    "        y_predict.append(1)\n",
    "    else: y_predict.append(0)\n",
    "\n",
    "print('weight: ', weight)\n",
    "print('cost: ', j)\n",
    "print('accuracy: ', accuracy(y, y_predict))"
   ]
  },
  {
   "cell_type": "code",
   "execution_count": null,
   "metadata": {},
   "outputs": [],
   "source": []
  }
 ],
 "metadata": {
  "kernelspec": {
   "display_name": "Python 3",
   "language": "python",
   "name": "python3"
  },
  "language_info": {
   "codemirror_mode": {
    "name": "ipython",
    "version": 3
   },
   "file_extension": ".py",
   "mimetype": "text/x-python",
   "name": "python",
   "nbconvert_exporter": "python",
   "pygments_lexer": "ipython3",
   "version": "3.8.5"
  }
 },
 "nbformat": 4,
 "nbformat_minor": 4
}
