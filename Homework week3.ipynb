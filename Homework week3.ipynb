{
 "cells": [
  {
   "cell_type": "code",
   "execution_count": 280,
   "metadata": {},
   "outputs": [],
   "source": [
    "import numpy as np\n",
    "from sklearn.datasets import load_iris\n",
    "data = load_iris()\n",
    "X, Y = data['data'], data['target']"
   ]
  },
  {
   "cell_type": "code",
   "execution_count": 281,
   "metadata": {},
   "outputs": [],
   "source": [
    "from sklearn.model_selection import train_test_split\n",
    "x_train, x_test, y_train, y_test = train_test_split(X, Y, test_size=0.1, random_state=42)"
   ]
  },
  {
   "cell_type": "code",
   "execution_count": 282,
   "metadata": {},
   "outputs": [],
   "source": [
    "from sklearn.preprocessing import StandardScaler\n",
    "scaler = StandardScaler()\n",
    "scaler.fit(x_train)\n",
    "x_train = scaler.transform(x_train)\n",
    "x_test = scaler.transform(x_test)"
   ]
  },
  {
   "cell_type": "markdown",
   "metadata": {},
   "source": [
    "KNN"
   ]
  },
  {
   "cell_type": "code",
   "execution_count": 283,
   "metadata": {},
   "outputs": [],
   "source": [
    "def index_k_nearest_point(x_train, x, k):\n",
    "    m = x_train.shape[0]\n",
    "    index = []\n",
    "    dist = np.zeros(m)\n",
    "    for i in range(m):\n",
    "        dist[i] = np.linalg.norm(x - x_train[i])\n",
    "    sorted_dist = sorted(dist)\n",
    "    sorted_dist = sorted_dist[1:k+1]\n",
    "    for value in sorted_dist:\n",
    "        for i in range(m):\n",
    "            if dist[i] == value:\n",
    "                index.append(i)\n",
    "    return index"
   ]
  },
  {
   "cell_type": "code",
   "execution_count": 284,
   "metadata": {},
   "outputs": [],
   "source": [
    "def major_voting(y_train, index):\n",
    "    vote = {}\n",
    "    for value in index:\n",
    "        if y_train[value] not in vote:\n",
    "            vote[y_train[value]] = 0\n",
    "        vote[y_train[value]] += 1\n",
    "    max_value = max(vote.values())\n",
    "    for k, v in vote.items():\n",
    "        if v == max_value:\n",
    "            max_key = k\n",
    "    return max_key"
   ]
  },
  {
   "cell_type": "code",
   "execution_count": 285,
   "metadata": {},
   "outputs": [],
   "source": [
    "def evaluateKNN_single(k, x_train, y_train, data):\n",
    "    index = index_k_nearest_point(x_train, data, k)\n",
    "    evaluate_index = major_voting(y_train, index)\n",
    "    return evaluate_index"
   ]
  },
  {
   "cell_type": "code",
   "execution_count": 286,
   "metadata": {},
   "outputs": [],
   "source": [
    "def evaluateKNN(k, x_train=x_train, y_train=y_train, x_test=x_test, y_test=y_test):\n",
    "    correct = sum(map(lambda x: evaluateKNN_single(k, x_train, y_train, x[0]) == x[1], zip(x_test, y_test)))\n",
    "    print(f'Test accuracy with k={k}: {correct/len(y_test)*100:.4f}% ({correct}/{len(y_test)})')\n",
    "    # return the number of correct evaluations for us to check with the solution\n",
    "    return correct"
   ]
  },
  {
   "cell_type": "code",
   "execution_count": 287,
   "metadata": {},
   "outputs": [
    {
     "name": "stdout",
     "output_type": "stream",
     "text": [
      "Test accuracy with k=5: 100.0000% (15/15)\n"
     ]
    }
   ],
   "source": [
    "assert evaluateKNN(5) == len(y_test), \"Incorrect accuracy for 5-NN!\""
   ]
  },
  {
   "cell_type": "code",
   "execution_count": 288,
   "metadata": {},
   "outputs": [
    {
     "name": "stdout",
     "output_type": "stream",
     "text": [
      "Test accuracy with k=1: 100.0000% (15/15)\n"
     ]
    }
   ],
   "source": [
    "assert evaluateKNN(1) == len(y_test), \"Incorrect accuracy for 1-NN!\""
   ]
  },
  {
   "cell_type": "markdown",
   "metadata": {},
   "source": [
    "K-Means"
   ]
  },
  {
   "cell_type": "code",
   "execution_count": 303,
   "metadata": {},
   "outputs": [],
   "source": [
    "def get_cluster_classification(x_data, centroids):\n",
    "    clusters = np.zeros(x_data.shape[0])\n",
    "    for i in range(x_data.shape[0]):\n",
    "        dist = np.linalg.norm(x_data[i] - centroids, axis = 1)\n",
    "        clusters[i] = np.argmin(dist)\n",
    "    return clusters"
   ]
  },
  {
   "cell_type": "code",
   "execution_count": 290,
   "metadata": {},
   "outputs": [],
   "source": [
    "def update_centroids(x_data, clusters, k):\n",
    "    new_centroids = np.zeros((k, x_data.shape[1]))\n",
    "    for i in range(k):\n",
    "        x_i = x_data[clusters==i, : ]\n",
    "        new_centroids[i] = np.mean(x_i, axis = 0)\n",
    "    return new_centroids"
   ]
  },
  {
   "cell_type": "code",
   "execution_count": 291,
   "metadata": {},
   "outputs": [],
   "source": [
    "def kmeans(x_train, k, step):\n",
    "    centroids = x_train[0:3, :]\n",
    "    clusters = np.zeros(x_train.shape[0])\n",
    "    for i in range(step):\n",
    "        old_clusters = clusters\n",
    "        clusters = get_cluster_classification(x_train, centroids)\n",
    "        if np.array_equal(clusters, old_clusters):\n",
    "            print('break')\n",
    "            break\n",
    "        centroids = update_centroids(x_train, clusters, k)\n",
    "    return centroids"
   ]
  },
  {
   "cell_type": "code",
   "execution_count": 292,
   "metadata": {},
   "outputs": [
    {
     "name": "stdout",
     "output_type": "stream",
     "text": [
      "break\n"
     ]
    }
   ],
   "source": [
    "centroids = kmeans(x_train, k=3, step=10)\n",
    "assert np.allclose(centroids, np.array([\n",
    "    [-1.02028733,  0.90854287, -1.32521428, -1.27540932],\n",
    "    [ 0.99363929,  0.01896468,  0.90355632,  0.92076921],\n",
    "    [-0.22539812, -1.02749927,  0.23322382,  0.15491878]\n",
    "])), \"Incorrect centroids for K-means!\""
   ]
  },
  {
   "cell_type": "markdown",
   "metadata": {},
   "source": [
    "k_mean++"
   ]
  },
  {
   "cell_type": "code",
   "execution_count": 293,
   "metadata": {},
   "outputs": [],
   "source": [
    "def get_clusters(x_train, centroids, n):\n",
    "    centroids = centroids[0:n]\n",
    "    clusters = np.zeros(x_train.shape[0])\n",
    "    for i in range(x_train.shape[0]):\n",
    "        dist = np.linalg.norm(x_train[i] - centroids, axis = 1)\n",
    "        clusters[i] = np.argmin(dist)\n",
    "    return clusters"
   ]
  },
  {
   "cell_type": "code",
   "execution_count": 294,
   "metadata": {},
   "outputs": [],
   "source": [
    "def get_dist_from_nearest_centroid(x_train, clusters, centroids):\n",
    "    m = x_train.shape[0]\n",
    "    dist = np.zeros(m)\n",
    "    for i in range(m):\n",
    "        centroid_index = int(clusters[i])\n",
    "        dist[i] = np.linalg.norm(x_train[i] - centroids[centroid_index])\n",
    "    return dist"
   ]
  },
  {
   "cell_type": "code",
   "execution_count": 295,
   "metadata": {},
   "outputs": [],
   "source": [
    "def get_4th_furthest_point(dist):\n",
    "    sort_dist = sorted(dist, reverse = True)\n",
    "    return sort_dist[3]"
   ]
  },
  {
   "cell_type": "code",
   "execution_count": 296,
   "metadata": {},
   "outputs": [],
   "source": [
    "def init_centroids(x_train, k):\n",
    "    n = 1\n",
    "    centroids = np.zeros((k, x_train.shape[1]))\n",
    "    centroids[0] = x_train[3]\n",
    "    while( n < k):\n",
    "        clusters = get_clusters(x_train, centroids, n)\n",
    "        dist = get_dist_from_nearest_centroid(x_train, clusters, centroids)\n",
    "        value = get_4th_furthest_point(dist)\n",
    "        new_centroid = x_train[dist == value]\n",
    "        centroids[n] = new_centroid\n",
    "        n += 1\n",
    "    return centroids"
   ]
  },
  {
   "cell_type": "code",
   "execution_count": 306,
   "metadata": {},
   "outputs": [],
   "source": [
    "def kmeanspp(x_train, k, step):\n",
    "    centroids = init_centroids(x_train, k) \n",
    "    print('init_centroids')\n",
    "    print(centroids)\n",
    "    clusters = np.zeros(x_train.shape[0])\n",
    "    for i in range(step):\n",
    "        old_clusters = clusters\n",
    "        clusters = get_cluster_classification(x_train, centroids)\n",
    "        if np.array_equal(clusters, old_clusters):\n",
    "            print('break')\n",
    "            break\n",
    "        centroids = update_centroids(x_train, clusters, k)\n",
    "    return centroids"
   ]
  },
  {
   "cell_type": "code",
   "execution_count": 308,
   "metadata": {},
   "outputs": [
    {
     "name": "stdout",
     "output_type": "stream",
     "text": [
      "init_centroids\n",
      "[[-0.16055757 -0.59185214  0.4040297   0.11432871]\n",
      " [ 2.4886423   1.70412599  1.48580024  1.03775287]\n",
      " [-0.04013939  2.16332162 -1.47483493 -1.3367664 ]]\n",
      "break\n"
     ]
    }
   ],
   "source": [
    "centroidspp = kmeanspp(x_train, k=3, step=10)\n",
    "assert np.allclose(centroidspp, np.array([\n",
    "    [-0.0118057 , -0.87997489,  0.36942197,  0.30573876],\n",
    "    [ 1.15200055,  0.18878042,  0.98903982,  1.01136932],\n",
    "    [-1.03358934,  0.84835232, -1.32732076, -1.27380566]\n",
    "])), \"Incorrect centroids for K-means++!\""
   ]
  }
 ],
 "metadata": {
  "kernelspec": {
   "display_name": "Python 3",
   "language": "python",
   "name": "python3"
  },
  "language_info": {
   "codemirror_mode": {
    "name": "ipython",
    "version": 3
   },
   "file_extension": ".py",
   "mimetype": "text/x-python",
   "name": "python",
   "nbconvert_exporter": "python",
   "pygments_lexer": "ipython3",
   "version": "3.8.5"
  }
 },
 "nbformat": 4,
 "nbformat_minor": 4
}
